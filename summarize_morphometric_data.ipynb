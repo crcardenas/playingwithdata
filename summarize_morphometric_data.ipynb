{
 "cells": [
  {
   "cell_type": "code",
   "execution_count": 1,
   "metadata": {},
   "outputs": [],
   "source": [
    "import pandas as pd\n",
    "import numpy as np\n",
    "import seaborn as sns\n",
    "import matplotlib.pyplot as plt\n",
    "%matplotlib inline"
   ]
  },
  {
   "cell_type": "code",
   "execution_count": 2,
   "metadata": {},
   "outputs": [
    {
     "name": "stdout",
     "output_type": "stream",
     "text": [
      "measurments.csv\t\t      summarize_morphometric_data.ipynb\r\n",
      "seaborn_pairwise_kdeplot.png  total_dataset.csv\r\n"
     ]
    }
   ],
   "source": [
    "! ls"
   ]
  },
  {
   "cell_type": "markdown",
   "metadata": {},
   "source": [
    "Just want to see what this data looks like first"
   ]
  },
  {
   "cell_type": "code",
   "execution_count": 3,
   "metadata": {},
   "outputs": [],
   "source": [
    "df = pd.read_csv(\"measurments.csv\")"
   ]
  },
  {
   "cell_type": "code",
   "execution_count": 4,
   "metadata": {},
   "outputs": [
    {
     "data": {
      "text/plain": [
       "(249, 19)"
      ]
     },
     "execution_count": 4,
     "metadata": {},
     "output_type": "execute_result"
    }
   ],
   "source": [
    "df.shape"
   ]
  },
  {
   "cell_type": "code",
   "execution_count": 5,
   "metadata": {
    "scrolled": false
   },
   "outputs": [
    {
     "data": {
      "text/plain": [
       "BC_number           object\n",
       "Collection_Code     object\n",
       "Species             object\n",
       "Caste               object\n",
       "HW                 float64\n",
       "HL                 float64\n",
       "SL                 float64\n",
       "EL                 float64\n",
       "FL                 float64\n",
       "ML                 float64\n",
       "PL                 float64\n",
       "PPL                float64\n",
       "GL                 float64\n",
       "CI                 float64\n",
       "EI                 float64\n",
       "SI                 float64\n",
       "FLI                float64\n",
       "WL                 float64\n",
       "TL                 float64\n",
       "dtype: object"
      ]
     },
     "execution_count": 5,
     "metadata": {},
     "output_type": "execute_result"
    }
   ],
   "source": [
    "df.dtypes"
   ]
  },
  {
   "cell_type": "markdown",
   "metadata": {},
   "source": [
    "lets tighten up some of those headers"
   ]
  },
  {
   "cell_type": "code",
   "execution_count": 6,
   "metadata": {},
   "outputs": [],
   "source": [
    "df = df.rename(columns={\n",
    "    'BC_number' : 'sample',\n",
    "    'Collection_Code' : 'coll',\n",
    "    'Species' : 'spp',\n",
    "    'Caste' : 'caste',\n",
    "})"
   ]
  },
  {
   "cell_type": "code",
   "execution_count": 7,
   "metadata": {},
   "outputs": [
    {
     "data": {
      "text/plain": [
       "sample     object\n",
       "coll       object\n",
       "spp        object\n",
       "caste      object\n",
       "HW        float64\n",
       "HL        float64\n",
       "SL        float64\n",
       "EL        float64\n",
       "FL        float64\n",
       "ML        float64\n",
       "PL        float64\n",
       "PPL       float64\n",
       "GL        float64\n",
       "CI        float64\n",
       "EI        float64\n",
       "SI        float64\n",
       "FLI       float64\n",
       "WL        float64\n",
       "TL        float64\n",
       "dtype: object"
      ]
     },
     "execution_count": 7,
     "metadata": {},
     "output_type": "execute_result"
    }
   ],
   "source": [
    "df.dtypes"
   ]
  },
  {
   "cell_type": "code",
   "execution_count": 8,
   "metadata": {},
   "outputs": [
    {
     "data": {
      "text/html": [
       "<div>\n",
       "<style scoped>\n",
       "    .dataframe tbody tr th:only-of-type {\n",
       "        vertical-align: middle;\n",
       "    }\n",
       "\n",
       "    .dataframe tbody tr th {\n",
       "        vertical-align: top;\n",
       "    }\n",
       "\n",
       "    .dataframe thead th {\n",
       "        text-align: right;\n",
       "    }\n",
       "</style>\n",
       "<table border=\"1\" class=\"dataframe\">\n",
       "  <thead>\n",
       "    <tr style=\"text-align: right;\">\n",
       "      <th></th>\n",
       "      <th>HW</th>\n",
       "      <th>HL</th>\n",
       "      <th>SL</th>\n",
       "      <th>EL</th>\n",
       "      <th>FL</th>\n",
       "      <th>ML</th>\n",
       "      <th>PL</th>\n",
       "      <th>PPL</th>\n",
       "      <th>GL</th>\n",
       "      <th>CI</th>\n",
       "      <th>EI</th>\n",
       "      <th>SI</th>\n",
       "      <th>FLI</th>\n",
       "      <th>WL</th>\n",
       "      <th>TL</th>\n",
       "    </tr>\n",
       "  </thead>\n",
       "  <tbody>\n",
       "    <tr>\n",
       "      <th>count</th>\n",
       "      <td>249.000000</td>\n",
       "      <td>249.000000</td>\n",
       "      <td>248.000000</td>\n",
       "      <td>249.000000</td>\n",
       "      <td>248.000000</td>\n",
       "      <td>249.000000</td>\n",
       "      <td>249.00000</td>\n",
       "      <td>249.000000</td>\n",
       "      <td>249.000000</td>\n",
       "      <td>249.000000</td>\n",
       "      <td>249.000000</td>\n",
       "      <td>248.000000</td>\n",
       "      <td>248.000000</td>\n",
       "      <td>249.000000</td>\n",
       "      <td>249.000000</td>\n",
       "    </tr>\n",
       "    <tr>\n",
       "      <th>mean</th>\n",
       "      <td>1.225884</td>\n",
       "      <td>1.036398</td>\n",
       "      <td>1.058308</td>\n",
       "      <td>0.254075</td>\n",
       "      <td>0.723100</td>\n",
       "      <td>1.867973</td>\n",
       "      <td>0.47639</td>\n",
       "      <td>0.280662</td>\n",
       "      <td>1.323394</td>\n",
       "      <td>118.446889</td>\n",
       "      <td>25.268973</td>\n",
       "      <td>87.555732</td>\n",
       "      <td>58.086844</td>\n",
       "      <td>0.757052</td>\n",
       "      <td>5.000920</td>\n",
       "    </tr>\n",
       "    <tr>\n",
       "      <th>std</th>\n",
       "      <td>0.217018</td>\n",
       "      <td>0.179328</td>\n",
       "      <td>0.105142</td>\n",
       "      <td>0.063120</td>\n",
       "      <td>0.198075</td>\n",
       "      <td>0.263260</td>\n",
       "      <td>0.12487</td>\n",
       "      <td>0.047924</td>\n",
       "      <td>0.294790</td>\n",
       "      <td>5.972296</td>\n",
       "      <td>8.496119</td>\n",
       "      <td>7.884132</td>\n",
       "      <td>9.239841</td>\n",
       "      <td>0.164697</td>\n",
       "      <td>0.809419</td>\n",
       "    </tr>\n",
       "    <tr>\n",
       "      <th>min</th>\n",
       "      <td>0.817000</td>\n",
       "      <td>0.620000</td>\n",
       "      <td>0.788000</td>\n",
       "      <td>0.165000</td>\n",
       "      <td>0.302000</td>\n",
       "      <td>1.441000</td>\n",
       "      <td>0.29700</td>\n",
       "      <td>0.197000</td>\n",
       "      <td>0.947000</td>\n",
       "      <td>102.778000</td>\n",
       "      <td>17.647000</td>\n",
       "      <td>71.186000</td>\n",
       "      <td>32.432000</td>\n",
       "      <td>0.535000</td>\n",
       "      <td>3.843000</td>\n",
       "    </tr>\n",
       "    <tr>\n",
       "      <th>25%</th>\n",
       "      <td>1.094000</td>\n",
       "      <td>0.954000</td>\n",
       "      <td>1.010750</td>\n",
       "      <td>0.198000</td>\n",
       "      <td>0.674750</td>\n",
       "      <td>1.667000</td>\n",
       "      <td>0.39100</td>\n",
       "      <td>0.253000</td>\n",
       "      <td>1.100000</td>\n",
       "      <td>113.889000</td>\n",
       "      <td>20.008000</td>\n",
       "      <td>80.673750</td>\n",
       "      <td>58.949000</td>\n",
       "      <td>0.636000</td>\n",
       "      <td>4.413000</td>\n",
       "    </tr>\n",
       "    <tr>\n",
       "      <th>50%</th>\n",
       "      <td>1.159000</td>\n",
       "      <td>1.014000</td>\n",
       "      <td>1.042000</td>\n",
       "      <td>0.242000</td>\n",
       "      <td>0.716000</td>\n",
       "      <td>1.798000</td>\n",
       "      <td>0.45200</td>\n",
       "      <td>0.268000</td>\n",
       "      <td>1.183000</td>\n",
       "      <td>118.000000</td>\n",
       "      <td>21.951000</td>\n",
       "      <td>90.000000</td>\n",
       "      <td>61.237000</td>\n",
       "      <td>0.726000</td>\n",
       "      <td>4.669000</td>\n",
       "    </tr>\n",
       "    <tr>\n",
       "      <th>75%</th>\n",
       "      <td>1.377000</td>\n",
       "      <td>1.155000</td>\n",
       "      <td>1.126000</td>\n",
       "      <td>0.282000</td>\n",
       "      <td>0.845000</td>\n",
       "      <td>2.023000</td>\n",
       "      <td>0.50700</td>\n",
       "      <td>0.304000</td>\n",
       "      <td>1.577000</td>\n",
       "      <td>121.875000</td>\n",
       "      <td>25.000000</td>\n",
       "      <td>92.444500</td>\n",
       "      <td>63.063000</td>\n",
       "      <td>0.817000</td>\n",
       "      <td>5.409000</td>\n",
       "    </tr>\n",
       "    <tr>\n",
       "      <th>max</th>\n",
       "      <td>1.690000</td>\n",
       "      <td>1.408000</td>\n",
       "      <td>1.279000</td>\n",
       "      <td>0.396000</td>\n",
       "      <td>1.098000</td>\n",
       "      <td>2.543000</td>\n",
       "      <td>0.87300</td>\n",
       "      <td>0.451000</td>\n",
       "      <td>2.084000</td>\n",
       "      <td>140.741000</td>\n",
       "      <td>48.276000</td>\n",
       "      <td>103.448000</td>\n",
       "      <td>68.867000</td>\n",
       "      <td>1.267000</td>\n",
       "      <td>7.153000</td>\n",
       "    </tr>\n",
       "  </tbody>\n",
       "</table>\n",
       "</div>"
      ],
      "text/plain": [
       "               HW          HL          SL          EL          FL          ML  \\\n",
       "count  249.000000  249.000000  248.000000  249.000000  248.000000  249.000000   \n",
       "mean     1.225884    1.036398    1.058308    0.254075    0.723100    1.867973   \n",
       "std      0.217018    0.179328    0.105142    0.063120    0.198075    0.263260   \n",
       "min      0.817000    0.620000    0.788000    0.165000    0.302000    1.441000   \n",
       "25%      1.094000    0.954000    1.010750    0.198000    0.674750    1.667000   \n",
       "50%      1.159000    1.014000    1.042000    0.242000    0.716000    1.798000   \n",
       "75%      1.377000    1.155000    1.126000    0.282000    0.845000    2.023000   \n",
       "max      1.690000    1.408000    1.279000    0.396000    1.098000    2.543000   \n",
       "\n",
       "              PL         PPL          GL          CI          EI          SI  \\\n",
       "count  249.00000  249.000000  249.000000  249.000000  249.000000  248.000000   \n",
       "mean     0.47639    0.280662    1.323394  118.446889   25.268973   87.555732   \n",
       "std      0.12487    0.047924    0.294790    5.972296    8.496119    7.884132   \n",
       "min      0.29700    0.197000    0.947000  102.778000   17.647000   71.186000   \n",
       "25%      0.39100    0.253000    1.100000  113.889000   20.008000   80.673750   \n",
       "50%      0.45200    0.268000    1.183000  118.000000   21.951000   90.000000   \n",
       "75%      0.50700    0.304000    1.577000  121.875000   25.000000   92.444500   \n",
       "max      0.87300    0.451000    2.084000  140.741000   48.276000  103.448000   \n",
       "\n",
       "              FLI          WL          TL  \n",
       "count  248.000000  249.000000  249.000000  \n",
       "mean    58.086844    0.757052    5.000920  \n",
       "std      9.239841    0.164697    0.809419  \n",
       "min     32.432000    0.535000    3.843000  \n",
       "25%     58.949000    0.636000    4.413000  \n",
       "50%     61.237000    0.726000    4.669000  \n",
       "75%     63.063000    0.817000    5.409000  \n",
       "max     68.867000    1.267000    7.153000  "
      ]
     },
     "execution_count": 8,
     "metadata": {},
     "output_type": "execute_result"
    }
   ],
   "source": [
    "df.describe()"
   ]
  },
  {
   "cell_type": "code",
   "execution_count": 9,
   "metadata": {},
   "outputs": [
    {
     "name": "stdout",
     "output_type": "stream",
     "text": [
      "47\n"
     ]
    }
   ],
   "source": [
    "print(df['coll'].nunique())"
   ]
  },
  {
   "cell_type": "code",
   "execution_count": 10,
   "metadata": {},
   "outputs": [
    {
     "data": {
      "text/plain": [
       "2"
      ]
     },
     "execution_count": 10,
     "metadata": {},
     "output_type": "execute_result"
    }
   ],
   "source": [
    "df['spp'].nunique()"
   ]
  },
  {
   "cell_type": "code",
   "execution_count": 11,
   "metadata": {
    "scrolled": true
   },
   "outputs": [
    {
     "name": "stdout",
     "output_type": "stream",
     "text": [
      "coll\n",
      "HDFL12052010-14        2\n",
      "HDFL19052010-8         2\n",
      "HDFL28052010-04 ch1    1\n",
      "HDFL28052010-05        1\n",
      "JTL                    2\n",
      "KG110502-12            1\n",
      "KG110505-02            2\n",
      "KG110505-04            1\n",
      "KG110506-06            1\n",
      "KG110507-02            1\n",
      "KG110507-04            1\n",
      "KG110510-01            3\n",
      "KG110511-02            1\n",
      "KG110512-01            3\n",
      "KG110512-01A           3\n",
      "KG110513-01            1\n",
      "KG110513-03            1\n",
      "KG110513-04            1\n",
      "KG110513-05            1\n",
      "KG110513-20            1\n",
      "KG110515-01            3\n",
      "KG110515-01A           1\n",
      "KG110515-01B           1\n",
      "KG110515-02B           2\n",
      "KG110515-03            2\n",
      "KG110515-05            1\n",
      "KG110515-06            1\n",
      "KG110515-08            2\n",
      "KG110515-09            3\n",
      "KG110520-03            3\n",
      "KG110520-06            1\n",
      "KG110520-09            2\n",
      "KG110520-11            1\n",
      "KG110520-12            2\n",
      "KG110520-13            1\n",
      "KG110520-14            1\n",
      "KG111505-03            1\n",
      "RMMA050727-06          1\n",
      "RMMA050816-04          1\n",
      "RMMA050818-05          1\n",
      "RMMA1000624-28         1\n",
      "RMMA100511-02          1\n",
      "RMMA100519-01          1\n",
      "RMMA100519-04          1\n",
      "RMMA100629-23          1\n",
      "RMMA110515-01          1\n",
      "WEBER                  1\n",
      "Name: caste, dtype: int64\n"
     ]
    }
   ],
   "source": [
    "print(df.groupby('coll')['caste'].nunique())"
   ]
  },
  {
   "cell_type": "markdown",
   "metadata": {},
   "source": [
    "We know there are two species, represented by castes. We need to subset this df into fov_w, fov_q, fov_m, zet_w...ect. and get stats on the total colonies for each subset!<br>\n",
    "IE- how many colonies (coll) did we sample zeteki queens (gynes) from?"
   ]
  },
  {
   "cell_type": "markdown",
   "metadata": {},
   "source": [
    "First, drop any rows with NA's"
   ]
  },
  {
   "cell_type": "code",
   "execution_count": 12,
   "metadata": {},
   "outputs": [],
   "source": [
    "df=df.dropna(how='any')"
   ]
  },
  {
   "cell_type": "code",
   "execution_count": 13,
   "metadata": {},
   "outputs": [
    {
     "data": {
      "text/plain": [
       "247"
      ]
     },
     "execution_count": 13,
     "metadata": {},
     "output_type": "execute_result"
    }
   ],
   "source": [
    "len(df)"
   ]
  },
  {
   "cell_type": "markdown",
   "metadata": {},
   "source": [
    "filter our df/subset based on the value of spp (fovouros or zeteki)"
   ]
  },
  {
   "cell_type": "code",
   "execution_count": 14,
   "metadata": {},
   "outputs": [],
   "source": [
    "is_fovouros = df['spp']==\"fovouros\"\n",
    "is_zeteki = df['spp']==\"zeteki\""
   ]
  },
  {
   "cell_type": "markdown",
   "metadata": {},
   "source": [
    "now use these boolean variables to fitler the df"
   ]
  },
  {
   "cell_type": "code",
   "execution_count": 15,
   "metadata": {},
   "outputs": [],
   "source": [
    "fov = df[is_fovouros]\n",
    "zet = df[is_zeteki]"
   ]
  },
  {
   "cell_type": "markdown",
   "metadata": {},
   "source": [
    "do the same for each caste"
   ]
  },
  {
   "cell_type": "code",
   "execution_count": 16,
   "metadata": {},
   "outputs": [],
   "source": [
    "is_fov_W = fov['caste']==\"Worker\"\n",
    "is_zet_W = zet['caste']==\"Worker\"\n",
    "is_fov_G = fov['caste']==\"gyne\"\n",
    "is_zet_G = zet['caste']==\"gyne\"\n",
    "is_fov_M = fov['caste']==\"male\"\n",
    "is_zet_M = zet['caste']==\"male\""
   ]
  },
  {
   "cell_type": "code",
   "execution_count": 17,
   "metadata": {},
   "outputs": [],
   "source": [
    "fov_w = fov[is_fov_W]\n",
    "zet_w = zet[is_zet_W]\n",
    "fov_g = fov[is_fov_G]\n",
    "zet_g = zet[is_zet_G]\n",
    "fov_m = fov[is_fov_M]\n",
    "zet_m = zet[is_zet_M]"
   ]
  },
  {
   "cell_type": "markdown",
   "metadata": {},
   "source": [
    "# summarize and describe these new dataframes"
   ]
  },
  {
   "cell_type": "markdown",
   "metadata": {},
   "source": [
    "### fovouros workers"
   ]
  },
  {
   "cell_type": "markdown",
   "metadata": {},
   "source": [
    "colony count"
   ]
  },
  {
   "cell_type": "code",
   "execution_count": 18,
   "metadata": {
    "scrolled": true
   },
   "outputs": [
    {
     "name": "stdout",
     "output_type": "stream",
     "text": [
      "coll\n",
      "HDFL12052010-14        1\n",
      "HDFL28052010-04 ch1    1\n",
      "HDFL28052010-05        1\n",
      "JTL                    1\n",
      "KG110502-12            1\n",
      "KG110505-02            1\n",
      "KG110505-04            1\n",
      "KG110506-06            1\n",
      "KG110507-02            1\n",
      "KG110511-02            1\n",
      "KG110513-01            1\n",
      "KG110513-03            1\n",
      "KG110513-04            1\n",
      "KG110513-05            1\n",
      "KG110513-20            1\n",
      "KG110515-01B           1\n",
      "KG110515-02B           1\n",
      "KG110515-08            1\n",
      "KG110515-09            1\n",
      "KG110520-03            1\n",
      "KG110520-09            1\n",
      "KG110520-11            1\n",
      "RMMA050727-06          1\n",
      "RMMA100511-02          1\n",
      "RMMA100519-01          1\n",
      "RMMA100519-04          1\n",
      "Name: caste, dtype: int64\n"
     ]
    },
    {
     "data": {
      "text/plain": [
       "26"
      ]
     },
     "execution_count": 18,
     "metadata": {},
     "output_type": "execute_result"
    }
   ],
   "source": [
    "print(fov_w.groupby('coll')['caste'].nunique())\n",
    "len(fov_w.groupby('coll')['caste'].nunique())"
   ]
  },
  {
   "cell_type": "code",
   "execution_count": 19,
   "metadata": {},
   "outputs": [
    {
     "data": {
      "text/html": [
       "<div>\n",
       "<style scoped>\n",
       "    .dataframe tbody tr th:only-of-type {\n",
       "        vertical-align: middle;\n",
       "    }\n",
       "\n",
       "    .dataframe tbody tr th {\n",
       "        vertical-align: top;\n",
       "    }\n",
       "\n",
       "    .dataframe thead th {\n",
       "        text-align: right;\n",
       "    }\n",
       "</style>\n",
       "<table border=\"1\" class=\"dataframe\">\n",
       "  <thead>\n",
       "    <tr style=\"text-align: right;\">\n",
       "      <th></th>\n",
       "      <th>HW</th>\n",
       "      <th>HL</th>\n",
       "      <th>SL</th>\n",
       "      <th>EL</th>\n",
       "      <th>FL</th>\n",
       "      <th>ML</th>\n",
       "      <th>PL</th>\n",
       "      <th>PPL</th>\n",
       "      <th>GL</th>\n",
       "      <th>CI</th>\n",
       "      <th>EI</th>\n",
       "      <th>SI</th>\n",
       "      <th>FLI</th>\n",
       "      <th>WL</th>\n",
       "      <th>TL</th>\n",
       "    </tr>\n",
       "  </thead>\n",
       "  <tbody>\n",
       "    <tr>\n",
       "      <th>count</th>\n",
       "      <td>109.000000</td>\n",
       "      <td>109.000000</td>\n",
       "      <td>109.000000</td>\n",
       "      <td>109.000000</td>\n",
       "      <td>109.000000</td>\n",
       "      <td>109.000000</td>\n",
       "      <td>109.000000</td>\n",
       "      <td>109.000000</td>\n",
       "      <td>109.000000</td>\n",
       "      <td>109.000000</td>\n",
       "      <td>109.000000</td>\n",
       "      <td>109.000000</td>\n",
       "      <td>109.000000</td>\n",
       "      <td>109.000000</td>\n",
       "      <td>109.000000</td>\n",
       "    </tr>\n",
       "    <tr>\n",
       "      <th>mean</th>\n",
       "      <td>1.121969</td>\n",
       "      <td>0.982905</td>\n",
       "      <td>1.029001</td>\n",
       "      <td>0.200269</td>\n",
       "      <td>0.693906</td>\n",
       "      <td>1.651804</td>\n",
       "      <td>0.409977</td>\n",
       "      <td>0.253622</td>\n",
       "      <td>1.094394</td>\n",
       "      <td>114.242247</td>\n",
       "      <td>20.376885</td>\n",
       "      <td>91.716800</td>\n",
       "      <td>61.835398</td>\n",
       "      <td>0.663599</td>\n",
       "      <td>4.392747</td>\n",
       "    </tr>\n",
       "    <tr>\n",
       "      <th>std</th>\n",
       "      <td>0.044046</td>\n",
       "      <td>0.046395</td>\n",
       "      <td>0.047365</td>\n",
       "      <td>0.013756</td>\n",
       "      <td>0.036141</td>\n",
       "      <td>0.077554</td>\n",
       "      <td>0.051027</td>\n",
       "      <td>0.017770</td>\n",
       "      <td>0.053789</td>\n",
       "      <td>3.521645</td>\n",
       "      <td>1.236200</td>\n",
       "      <td>2.423955</td>\n",
       "      <td>1.865663</td>\n",
       "      <td>0.056771</td>\n",
       "      <td>0.179091</td>\n",
       "    </tr>\n",
       "    <tr>\n",
       "      <th>min</th>\n",
       "      <td>1.012000</td>\n",
       "      <td>0.825000</td>\n",
       "      <td>0.904000</td>\n",
       "      <td>0.165000</td>\n",
       "      <td>0.620000</td>\n",
       "      <td>1.441000</td>\n",
       "      <td>0.310000</td>\n",
       "      <td>0.225000</td>\n",
       "      <td>0.947000</td>\n",
       "      <td>102.778000</td>\n",
       "      <td>17.647000</td>\n",
       "      <td>87.805000</td>\n",
       "      <td>57.540000</td>\n",
       "      <td>0.551000</td>\n",
       "      <td>3.843000</td>\n",
       "    </tr>\n",
       "    <tr>\n",
       "      <th>25%</th>\n",
       "      <td>1.098000</td>\n",
       "      <td>0.961000</td>\n",
       "      <td>1.001000</td>\n",
       "      <td>0.197000</td>\n",
       "      <td>0.676000</td>\n",
       "      <td>1.605000</td>\n",
       "      <td>0.367000</td>\n",
       "      <td>0.242000</td>\n",
       "      <td>1.052000</td>\n",
       "      <td>112.288000</td>\n",
       "      <td>19.444000</td>\n",
       "      <td>90.244000</td>\n",
       "      <td>60.811000</td>\n",
       "      <td>0.619000</td>\n",
       "      <td>4.280000</td>\n",
       "    </tr>\n",
       "    <tr>\n",
       "      <th>50%</th>\n",
       "      <td>1.124000</td>\n",
       "      <td>0.986000</td>\n",
       "      <td>1.029000</td>\n",
       "      <td>0.198000</td>\n",
       "      <td>0.693000</td>\n",
       "      <td>1.658000</td>\n",
       "      <td>0.396000</td>\n",
       "      <td>0.253000</td>\n",
       "      <td>1.098000</td>\n",
       "      <td>114.286000</td>\n",
       "      <td>20.000000</td>\n",
       "      <td>91.566000</td>\n",
       "      <td>61.585000</td>\n",
       "      <td>0.660000</td>\n",
       "      <td>4.393000</td>\n",
       "    </tr>\n",
       "    <tr>\n",
       "      <th>75%</th>\n",
       "      <td>1.155000</td>\n",
       "      <td>1.014000</td>\n",
       "      <td>1.046000</td>\n",
       "      <td>0.209000</td>\n",
       "      <td>0.713700</td>\n",
       "      <td>1.710000</td>\n",
       "      <td>0.452000</td>\n",
       "      <td>0.266000</td>\n",
       "      <td>1.130000</td>\n",
       "      <td>116.374000</td>\n",
       "      <td>21.212000</td>\n",
       "      <td>92.426000</td>\n",
       "      <td>62.633000</td>\n",
       "      <td>0.706000</td>\n",
       "      <td>4.522000</td>\n",
       "    </tr>\n",
       "    <tr>\n",
       "      <th>max</th>\n",
       "      <td>1.215000</td>\n",
       "      <td>1.116000</td>\n",
       "      <td>1.197000</td>\n",
       "      <td>0.230000</td>\n",
       "      <td>0.810000</td>\n",
       "      <td>1.911000</td>\n",
       "      <td>0.549000</td>\n",
       "      <td>0.292800</td>\n",
       "      <td>1.197000</td>\n",
       "      <td>123.529000</td>\n",
       "      <td>22.857000</td>\n",
       "      <td>100.172000</td>\n",
       "      <td>68.867000</td>\n",
       "      <td>0.841800</td>\n",
       "      <td>4.785000</td>\n",
       "    </tr>\n",
       "  </tbody>\n",
       "</table>\n",
       "</div>"
      ],
      "text/plain": [
       "               HW          HL          SL          EL          FL          ML  \\\n",
       "count  109.000000  109.000000  109.000000  109.000000  109.000000  109.000000   \n",
       "mean     1.121969    0.982905    1.029001    0.200269    0.693906    1.651804   \n",
       "std      0.044046    0.046395    0.047365    0.013756    0.036141    0.077554   \n",
       "min      1.012000    0.825000    0.904000    0.165000    0.620000    1.441000   \n",
       "25%      1.098000    0.961000    1.001000    0.197000    0.676000    1.605000   \n",
       "50%      1.124000    0.986000    1.029000    0.198000    0.693000    1.658000   \n",
       "75%      1.155000    1.014000    1.046000    0.209000    0.713700    1.710000   \n",
       "max      1.215000    1.116000    1.197000    0.230000    0.810000    1.911000   \n",
       "\n",
       "               PL         PPL          GL          CI          EI          SI  \\\n",
       "count  109.000000  109.000000  109.000000  109.000000  109.000000  109.000000   \n",
       "mean     0.409977    0.253622    1.094394  114.242247   20.376885   91.716800   \n",
       "std      0.051027    0.017770    0.053789    3.521645    1.236200    2.423955   \n",
       "min      0.310000    0.225000    0.947000  102.778000   17.647000   87.805000   \n",
       "25%      0.367000    0.242000    1.052000  112.288000   19.444000   90.244000   \n",
       "50%      0.396000    0.253000    1.098000  114.286000   20.000000   91.566000   \n",
       "75%      0.452000    0.266000    1.130000  116.374000   21.212000   92.426000   \n",
       "max      0.549000    0.292800    1.197000  123.529000   22.857000  100.172000   \n",
       "\n",
       "              FLI          WL          TL  \n",
       "count  109.000000  109.000000  109.000000  \n",
       "mean    61.835398    0.663599    4.392747  \n",
       "std      1.865663    0.056771    0.179091  \n",
       "min     57.540000    0.551000    3.843000  \n",
       "25%     60.811000    0.619000    4.280000  \n",
       "50%     61.585000    0.660000    4.393000  \n",
       "75%     62.633000    0.706000    4.522000  \n",
       "max     68.867000    0.841800    4.785000  "
      ]
     },
     "execution_count": 19,
     "metadata": {},
     "output_type": "execute_result"
    }
   ],
   "source": [
    "fov_w.describe()"
   ]
  },
  {
   "cell_type": "markdown",
   "metadata": {},
   "source": [
    "### zeteki workers"
   ]
  },
  {
   "cell_type": "markdown",
   "metadata": {},
   "source": [
    "colonies sampled"
   ]
  },
  {
   "cell_type": "code",
   "execution_count": 20,
   "metadata": {},
   "outputs": [
    {
     "name": "stdout",
     "output_type": "stream",
     "text": [
      "coll\n",
      "HDFL19052010-8    1\n",
      "JTL               1\n",
      "KG110510-01       1\n",
      "KG110512-01       1\n",
      "KG110512-01A      1\n",
      "KG110515-01       1\n",
      "KG110515-03       1\n",
      "KG110515-05       1\n",
      "KG111505-03       1\n",
      "RMMA050816-04     1\n",
      "RMMA050818-05     1\n",
      "RMMA1000624-28    1\n",
      "RMMA100629-23     1\n",
      "WEBER             1\n",
      "Name: caste, dtype: int64\n"
     ]
    },
    {
     "data": {
      "text/plain": [
       "14"
      ]
     },
     "execution_count": 20,
     "metadata": {},
     "output_type": "execute_result"
    }
   ],
   "source": [
    "print(zet_w.groupby('coll')['caste'].nunique())\n",
    "len(zet_w.groupby('coll')['caste'].nunique())"
   ]
  },
  {
   "cell_type": "code",
   "execution_count": 21,
   "metadata": {},
   "outputs": [
    {
     "data": {
      "text/html": [
       "<div>\n",
       "<style scoped>\n",
       "    .dataframe tbody tr th:only-of-type {\n",
       "        vertical-align: middle;\n",
       "    }\n",
       "\n",
       "    .dataframe tbody tr th {\n",
       "        vertical-align: top;\n",
       "    }\n",
       "\n",
       "    .dataframe thead th {\n",
       "        text-align: right;\n",
       "    }\n",
       "</style>\n",
       "<table border=\"1\" class=\"dataframe\">\n",
       "  <thead>\n",
       "    <tr style=\"text-align: right;\">\n",
       "      <th></th>\n",
       "      <th>HW</th>\n",
       "      <th>HL</th>\n",
       "      <th>SL</th>\n",
       "      <th>EL</th>\n",
       "      <th>FL</th>\n",
       "      <th>ML</th>\n",
       "      <th>PL</th>\n",
       "      <th>PPL</th>\n",
       "      <th>GL</th>\n",
       "      <th>CI</th>\n",
       "      <th>EI</th>\n",
       "      <th>SI</th>\n",
       "      <th>FLI</th>\n",
       "      <th>WL</th>\n",
       "      <th>TL</th>\n",
       "    </tr>\n",
       "  </thead>\n",
       "  <tbody>\n",
       "    <tr>\n",
       "      <th>count</th>\n",
       "      <td>56.000000</td>\n",
       "      <td>56.000000</td>\n",
       "      <td>56.000000</td>\n",
       "      <td>56.000000</td>\n",
       "      <td>56.000000</td>\n",
       "      <td>56.000000</td>\n",
       "      <td>56.000000</td>\n",
       "      <td>56.000000</td>\n",
       "      <td>56.000000</td>\n",
       "      <td>56.000000</td>\n",
       "      <td>56.000000</td>\n",
       "      <td>56.000000</td>\n",
       "      <td>56.000000</td>\n",
       "      <td>56.000000</td>\n",
       "      <td>56.000000</td>\n",
       "    </tr>\n",
       "    <tr>\n",
       "      <th>mean</th>\n",
       "      <td>1.419043</td>\n",
       "      <td>1.162614</td>\n",
       "      <td>1.154596</td>\n",
       "      <td>0.253989</td>\n",
       "      <td>0.848250</td>\n",
       "      <td>1.952673</td>\n",
       "      <td>0.476402</td>\n",
       "      <td>0.293091</td>\n",
       "      <td>1.238430</td>\n",
       "      <td>122.061135</td>\n",
       "      <td>21.858514</td>\n",
       "      <td>81.476665</td>\n",
       "      <td>59.747014</td>\n",
       "      <td>0.769493</td>\n",
       "      <td>5.194836</td>\n",
       "    </tr>\n",
       "    <tr>\n",
       "      <th>std</th>\n",
       "      <td>0.095873</td>\n",
       "      <td>0.075742</td>\n",
       "      <td>0.061398</td>\n",
       "      <td>0.018626</td>\n",
       "      <td>0.069192</td>\n",
       "      <td>0.131186</td>\n",
       "      <td>0.055750</td>\n",
       "      <td>0.031832</td>\n",
       "      <td>0.099693</td>\n",
       "      <td>2.841577</td>\n",
       "      <td>1.046276</td>\n",
       "      <td>2.306976</td>\n",
       "      <td>2.035384</td>\n",
       "      <td>0.078237</td>\n",
       "      <td>0.411154</td>\n",
       "    </tr>\n",
       "    <tr>\n",
       "      <th>min</th>\n",
       "      <td>1.207800</td>\n",
       "      <td>1.012000</td>\n",
       "      <td>1.040000</td>\n",
       "      <td>0.207000</td>\n",
       "      <td>0.713700</td>\n",
       "      <td>1.665300</td>\n",
       "      <td>0.368000</td>\n",
       "      <td>0.221000</td>\n",
       "      <td>1.043100</td>\n",
       "      <td>115.789474</td>\n",
       "      <td>17.949000</td>\n",
       "      <td>77.441406</td>\n",
       "      <td>55.319000</td>\n",
       "      <td>0.589000</td>\n",
       "      <td>4.508000</td>\n",
       "    </tr>\n",
       "    <tr>\n",
       "      <th>25%</th>\n",
       "      <td>1.345250</td>\n",
       "      <td>1.098000</td>\n",
       "      <td>1.108500</td>\n",
       "      <td>0.242000</td>\n",
       "      <td>0.795000</td>\n",
       "      <td>1.877000</td>\n",
       "      <td>0.440000</td>\n",
       "      <td>0.274375</td>\n",
       "      <td>1.155000</td>\n",
       "      <td>120.000000</td>\n",
       "      <td>21.317869</td>\n",
       "      <td>79.956250</td>\n",
       "      <td>58.633977</td>\n",
       "      <td>0.735750</td>\n",
       "      <td>4.897500</td>\n",
       "    </tr>\n",
       "    <tr>\n",
       "      <th>50%</th>\n",
       "      <td>1.426000</td>\n",
       "      <td>1.155000</td>\n",
       "      <td>1.155000</td>\n",
       "      <td>0.253000</td>\n",
       "      <td>0.845000</td>\n",
       "      <td>1.943000</td>\n",
       "      <td>0.479000</td>\n",
       "      <td>0.291500</td>\n",
       "      <td>1.246000</td>\n",
       "      <td>121.525500</td>\n",
       "      <td>21.971500</td>\n",
       "      <td>81.132000</td>\n",
       "      <td>59.837500</td>\n",
       "      <td>0.760500</td>\n",
       "      <td>5.137000</td>\n",
       "    </tr>\n",
       "    <tr>\n",
       "      <th>75%</th>\n",
       "      <td>1.489000</td>\n",
       "      <td>1.228575</td>\n",
       "      <td>1.208000</td>\n",
       "      <td>0.266500</td>\n",
       "      <td>0.903750</td>\n",
       "      <td>2.051000</td>\n",
       "      <td>0.496050</td>\n",
       "      <td>0.310000</td>\n",
       "      <td>1.305950</td>\n",
       "      <td>123.649500</td>\n",
       "      <td>22.529500</td>\n",
       "      <td>82.577000</td>\n",
       "      <td>60.982750</td>\n",
       "      <td>0.794750</td>\n",
       "      <td>5.440750</td>\n",
       "    </tr>\n",
       "    <tr>\n",
       "      <th>max</th>\n",
       "      <td>1.602000</td>\n",
       "      <td>1.321000</td>\n",
       "      <td>1.279000</td>\n",
       "      <td>0.286000</td>\n",
       "      <td>1.001000</td>\n",
       "      <td>2.248000</td>\n",
       "      <td>0.614400</td>\n",
       "      <td>0.384000</td>\n",
       "      <td>1.517000</td>\n",
       "      <td>127.727000</td>\n",
       "      <td>24.324000</td>\n",
       "      <td>86.957000</td>\n",
       "      <td>67.229000</td>\n",
       "      <td>0.998400</td>\n",
       "      <td>6.541500</td>\n",
       "    </tr>\n",
       "  </tbody>\n",
       "</table>\n",
       "</div>"
      ],
      "text/plain": [
       "              HW         HL         SL         EL         FL         ML  \\\n",
       "count  56.000000  56.000000  56.000000  56.000000  56.000000  56.000000   \n",
       "mean    1.419043   1.162614   1.154596   0.253989   0.848250   1.952673   \n",
       "std     0.095873   0.075742   0.061398   0.018626   0.069192   0.131186   \n",
       "min     1.207800   1.012000   1.040000   0.207000   0.713700   1.665300   \n",
       "25%     1.345250   1.098000   1.108500   0.242000   0.795000   1.877000   \n",
       "50%     1.426000   1.155000   1.155000   0.253000   0.845000   1.943000   \n",
       "75%     1.489000   1.228575   1.208000   0.266500   0.903750   2.051000   \n",
       "max     1.602000   1.321000   1.279000   0.286000   1.001000   2.248000   \n",
       "\n",
       "              PL        PPL         GL          CI         EI         SI  \\\n",
       "count  56.000000  56.000000  56.000000   56.000000  56.000000  56.000000   \n",
       "mean    0.476402   0.293091   1.238430  122.061135  21.858514  81.476665   \n",
       "std     0.055750   0.031832   0.099693    2.841577   1.046276   2.306976   \n",
       "min     0.368000   0.221000   1.043100  115.789474  17.949000  77.441406   \n",
       "25%     0.440000   0.274375   1.155000  120.000000  21.317869  79.956250   \n",
       "50%     0.479000   0.291500   1.246000  121.525500  21.971500  81.132000   \n",
       "75%     0.496050   0.310000   1.305950  123.649500  22.529500  82.577000   \n",
       "max     0.614400   0.384000   1.517000  127.727000  24.324000  86.957000   \n",
       "\n",
       "             FLI         WL         TL  \n",
       "count  56.000000  56.000000  56.000000  \n",
       "mean   59.747014   0.769493   5.194836  \n",
       "std     2.035384   0.078237   0.411154  \n",
       "min    55.319000   0.589000   4.508000  \n",
       "25%    58.633977   0.735750   4.897500  \n",
       "50%    59.837500   0.760500   5.137000  \n",
       "75%    60.982750   0.794750   5.440750  \n",
       "max    67.229000   0.998400   6.541500  "
      ]
     },
     "execution_count": 21,
     "metadata": {},
     "output_type": "execute_result"
    }
   ],
   "source": [
    "zet_w.describe()"
   ]
  },
  {
   "cell_type": "markdown",
   "metadata": {},
   "source": [
    "### fovouros gynes"
   ]
  },
  {
   "cell_type": "code",
   "execution_count": 22,
   "metadata": {},
   "outputs": [
    {
     "name": "stdout",
     "output_type": "stream",
     "text": [
      "coll\n",
      "KG110507-04     1\n",
      "KG110515-02B    1\n",
      "KG110515-06     1\n",
      "KG110515-08     1\n",
      "KG110515-09     1\n",
      "KG110520-03     1\n",
      "KG110520-06     1\n",
      "KG110520-09     1\n",
      "KG110520-12     1\n",
      "Name: coll, dtype: int64\n"
     ]
    },
    {
     "data": {
      "text/plain": [
       "9"
      ]
     },
     "execution_count": 22,
     "metadata": {},
     "output_type": "execute_result"
    }
   ],
   "source": [
    "print(fov_g.groupby('coll')['coll'].nunique())\n",
    "len(fov_g.groupby('coll')['coll'].nunique())"
   ]
  },
  {
   "cell_type": "code",
   "execution_count": 23,
   "metadata": {},
   "outputs": [
    {
     "data": {
      "text/html": [
       "<div>\n",
       "<style scoped>\n",
       "    .dataframe tbody tr th:only-of-type {\n",
       "        vertical-align: middle;\n",
       "    }\n",
       "\n",
       "    .dataframe tbody tr th {\n",
       "        vertical-align: top;\n",
       "    }\n",
       "\n",
       "    .dataframe thead th {\n",
       "        text-align: right;\n",
       "    }\n",
       "</style>\n",
       "<table border=\"1\" class=\"dataframe\">\n",
       "  <thead>\n",
       "    <tr style=\"text-align: right;\">\n",
       "      <th></th>\n",
       "      <th>HW</th>\n",
       "      <th>HL</th>\n",
       "      <th>SL</th>\n",
       "      <th>EL</th>\n",
       "      <th>FL</th>\n",
       "      <th>ML</th>\n",
       "      <th>PL</th>\n",
       "      <th>PPL</th>\n",
       "      <th>GL</th>\n",
       "      <th>CI</th>\n",
       "      <th>EI</th>\n",
       "      <th>SI</th>\n",
       "      <th>FLI</th>\n",
       "      <th>WL</th>\n",
       "      <th>TL</th>\n",
       "    </tr>\n",
       "  </thead>\n",
       "  <tbody>\n",
       "    <tr>\n",
       "      <th>count</th>\n",
       "      <td>21.000000</td>\n",
       "      <td>21.000000</td>\n",
       "      <td>21.000000</td>\n",
       "      <td>21.000000</td>\n",
       "      <td>21.000000</td>\n",
       "      <td>21.000000</td>\n",
       "      <td>21.000000</td>\n",
       "      <td>21.000000</td>\n",
       "      <td>21.000000</td>\n",
       "      <td>21.000000</td>\n",
       "      <td>21.000000</td>\n",
       "      <td>21.000000</td>\n",
       "      <td>21.000000</td>\n",
       "      <td>21.000000</td>\n",
       "      <td>21.000000</td>\n",
       "    </tr>\n",
       "    <tr>\n",
       "      <th>mean</th>\n",
       "      <td>1.294857</td>\n",
       "      <td>1.132333</td>\n",
       "      <td>1.031333</td>\n",
       "      <td>0.265762</td>\n",
       "      <td>0.832333</td>\n",
       "      <td>2.025000</td>\n",
       "      <td>0.590714</td>\n",
       "      <td>0.305905</td>\n",
       "      <td>1.574286</td>\n",
       "      <td>114.367857</td>\n",
       "      <td>23.474762</td>\n",
       "      <td>79.653286</td>\n",
       "      <td>64.255000</td>\n",
       "      <td>0.896619</td>\n",
       "      <td>5.627857</td>\n",
       "    </tr>\n",
       "    <tr>\n",
       "      <th>std</th>\n",
       "      <td>0.026744</td>\n",
       "      <td>0.018451</td>\n",
       "      <td>0.022533</td>\n",
       "      <td>0.016544</td>\n",
       "      <td>0.018203</td>\n",
       "      <td>0.044579</td>\n",
       "      <td>0.074395</td>\n",
       "      <td>0.032436</td>\n",
       "      <td>0.034344</td>\n",
       "      <td>2.134307</td>\n",
       "      <td>1.455580</td>\n",
       "      <td>2.177204</td>\n",
       "      <td>0.959517</td>\n",
       "      <td>0.071473</td>\n",
       "      <td>0.115559</td>\n",
       "    </tr>\n",
       "    <tr>\n",
       "      <th>min</th>\n",
       "      <td>1.267000</td>\n",
       "      <td>1.098000</td>\n",
       "      <td>0.986000</td>\n",
       "      <td>0.231000</td>\n",
       "      <td>0.803000</td>\n",
       "      <td>1.915000</td>\n",
       "      <td>0.366000</td>\n",
       "      <td>0.253000</td>\n",
       "      <td>1.464000</td>\n",
       "      <td>112.195000</td>\n",
       "      <td>20.008000</td>\n",
       "      <td>73.469000</td>\n",
       "      <td>63.043000</td>\n",
       "      <td>0.676000</td>\n",
       "      <td>5.266000</td>\n",
       "    </tr>\n",
       "    <tr>\n",
       "      <th>25%</th>\n",
       "      <td>1.274000</td>\n",
       "      <td>1.126000</td>\n",
       "      <td>1.014000</td>\n",
       "      <td>0.253000</td>\n",
       "      <td>0.817000</td>\n",
       "      <td>1.999000</td>\n",
       "      <td>0.563000</td>\n",
       "      <td>0.282000</td>\n",
       "      <td>1.549000</td>\n",
       "      <td>112.500000</td>\n",
       "      <td>22.500000</td>\n",
       "      <td>78.261000</td>\n",
       "      <td>63.265000</td>\n",
       "      <td>0.873000</td>\n",
       "      <td>5.618000</td>\n",
       "    </tr>\n",
       "    <tr>\n",
       "      <th>50%</th>\n",
       "      <td>1.295000</td>\n",
       "      <td>1.126000</td>\n",
       "      <td>1.042000</td>\n",
       "      <td>0.253000</td>\n",
       "      <td>0.831000</td>\n",
       "      <td>2.028000</td>\n",
       "      <td>0.591000</td>\n",
       "      <td>0.310000</td>\n",
       "      <td>1.577000</td>\n",
       "      <td>114.634000</td>\n",
       "      <td>23.077000</td>\n",
       "      <td>80.000000</td>\n",
       "      <td>64.444000</td>\n",
       "      <td>0.901000</td>\n",
       "      <td>5.660000</td>\n",
       "    </tr>\n",
       "    <tr>\n",
       "      <th>75%</th>\n",
       "      <td>1.295000</td>\n",
       "      <td>1.155000</td>\n",
       "      <td>1.042000</td>\n",
       "      <td>0.282000</td>\n",
       "      <td>0.845000</td>\n",
       "      <td>2.056000</td>\n",
       "      <td>0.648000</td>\n",
       "      <td>0.310000</td>\n",
       "      <td>1.605000</td>\n",
       "      <td>115.000000</td>\n",
       "      <td>25.000000</td>\n",
       "      <td>80.435000</td>\n",
       "      <td>65.217000</td>\n",
       "      <td>0.930000</td>\n",
       "      <td>5.688000</td>\n",
       "    </tr>\n",
       "    <tr>\n",
       "      <th>max</th>\n",
       "      <td>1.380000</td>\n",
       "      <td>1.155000</td>\n",
       "      <td>1.070000</td>\n",
       "      <td>0.282000</td>\n",
       "      <td>0.873000</td>\n",
       "      <td>2.112000</td>\n",
       "      <td>0.704000</td>\n",
       "      <td>0.394000</td>\n",
       "      <td>1.633000</td>\n",
       "      <td>119.512000</td>\n",
       "      <td>25.000000</td>\n",
       "      <td>84.444000</td>\n",
       "      <td>65.934000</td>\n",
       "      <td>1.014000</td>\n",
       "      <td>5.773000</td>\n",
       "    </tr>\n",
       "  </tbody>\n",
       "</table>\n",
       "</div>"
      ],
      "text/plain": [
       "              HW         HL         SL         EL         FL         ML  \\\n",
       "count  21.000000  21.000000  21.000000  21.000000  21.000000  21.000000   \n",
       "mean    1.294857   1.132333   1.031333   0.265762   0.832333   2.025000   \n",
       "std     0.026744   0.018451   0.022533   0.016544   0.018203   0.044579   \n",
       "min     1.267000   1.098000   0.986000   0.231000   0.803000   1.915000   \n",
       "25%     1.274000   1.126000   1.014000   0.253000   0.817000   1.999000   \n",
       "50%     1.295000   1.126000   1.042000   0.253000   0.831000   2.028000   \n",
       "75%     1.295000   1.155000   1.042000   0.282000   0.845000   2.056000   \n",
       "max     1.380000   1.155000   1.070000   0.282000   0.873000   2.112000   \n",
       "\n",
       "              PL        PPL         GL          CI         EI         SI  \\\n",
       "count  21.000000  21.000000  21.000000   21.000000  21.000000  21.000000   \n",
       "mean    0.590714   0.305905   1.574286  114.367857  23.474762  79.653286   \n",
       "std     0.074395   0.032436   0.034344    2.134307   1.455580   2.177204   \n",
       "min     0.366000   0.253000   1.464000  112.195000  20.008000  73.469000   \n",
       "25%     0.563000   0.282000   1.549000  112.500000  22.500000  78.261000   \n",
       "50%     0.591000   0.310000   1.577000  114.634000  23.077000  80.000000   \n",
       "75%     0.648000   0.310000   1.605000  115.000000  25.000000  80.435000   \n",
       "max     0.704000   0.394000   1.633000  119.512000  25.000000  84.444000   \n",
       "\n",
       "             FLI         WL         TL  \n",
       "count  21.000000  21.000000  21.000000  \n",
       "mean   64.255000   0.896619   5.627857  \n",
       "std     0.959517   0.071473   0.115559  \n",
       "min    63.043000   0.676000   5.266000  \n",
       "25%    63.265000   0.873000   5.618000  \n",
       "50%    64.444000   0.901000   5.660000  \n",
       "75%    65.217000   0.930000   5.688000  \n",
       "max    65.934000   1.014000   5.773000  "
      ]
     },
     "execution_count": 23,
     "metadata": {},
     "output_type": "execute_result"
    }
   ],
   "source": [
    "fov_g.describe()"
   ]
  },
  {
   "cell_type": "markdown",
   "metadata": {},
   "source": [
    "### zeteki gynes"
   ]
  },
  {
   "cell_type": "code",
   "execution_count": 24,
   "metadata": {},
   "outputs": [
    {
     "name": "stdout",
     "output_type": "stream",
     "text": [
      "coll\n",
      "JTL              1\n",
      "KG110510-01      1\n",
      "KG110512-01      1\n",
      "KG110512-01A     1\n",
      "KG110515-01      1\n",
      "KG110515-01A     1\n",
      "KG110515-03      1\n",
      "KG110520-14      1\n",
      "RMMA110515-01    1\n",
      "Name: coll, dtype: int64\n"
     ]
    },
    {
     "data": {
      "text/plain": [
       "9"
      ]
     },
     "execution_count": 24,
     "metadata": {},
     "output_type": "execute_result"
    }
   ],
   "source": [
    "print(zet_g.groupby('coll')['coll'].nunique())\n",
    "len(zet_g.groupby('coll')['coll'].nunique())"
   ]
  },
  {
   "cell_type": "code",
   "execution_count": 25,
   "metadata": {},
   "outputs": [
    {
     "data": {
      "text/html": [
       "<div>\n",
       "<style scoped>\n",
       "    .dataframe tbody tr th:only-of-type {\n",
       "        vertical-align: middle;\n",
       "    }\n",
       "\n",
       "    .dataframe tbody tr th {\n",
       "        vertical-align: top;\n",
       "    }\n",
       "\n",
       "    .dataframe thead th {\n",
       "        text-align: right;\n",
       "    }\n",
       "</style>\n",
       "<table border=\"1\" class=\"dataframe\">\n",
       "  <thead>\n",
       "    <tr style=\"text-align: right;\">\n",
       "      <th></th>\n",
       "      <th>HW</th>\n",
       "      <th>HL</th>\n",
       "      <th>SL</th>\n",
       "      <th>EL</th>\n",
       "      <th>FL</th>\n",
       "      <th>ML</th>\n",
       "      <th>PL</th>\n",
       "      <th>PPL</th>\n",
       "      <th>GL</th>\n",
       "      <th>CI</th>\n",
       "      <th>EI</th>\n",
       "      <th>SI</th>\n",
       "      <th>FLI</th>\n",
       "      <th>WL</th>\n",
       "      <th>TL</th>\n",
       "    </tr>\n",
       "  </thead>\n",
       "  <tbody>\n",
       "    <tr>\n",
       "      <th>count</th>\n",
       "      <td>24.000000</td>\n",
       "      <td>24.00000</td>\n",
       "      <td>24.000000</td>\n",
       "      <td>24.000000</td>\n",
       "      <td>24.000000</td>\n",
       "      <td>24.000000</td>\n",
       "      <td>24.000000</td>\n",
       "      <td>24.000000</td>\n",
       "      <td>24.000000</td>\n",
       "      <td>24.000000</td>\n",
       "      <td>24.000000</td>\n",
       "      <td>24.000000</td>\n",
       "      <td>24.000000</td>\n",
       "      <td>24.000000</td>\n",
       "      <td>24.000000</td>\n",
       "    </tr>\n",
       "    <tr>\n",
       "      <th>mean</th>\n",
       "      <td>1.636542</td>\n",
       "      <td>1.36175</td>\n",
       "      <td>1.208792</td>\n",
       "      <td>0.374917</td>\n",
       "      <td>1.055375</td>\n",
       "      <td>2.468917</td>\n",
       "      <td>0.765292</td>\n",
       "      <td>0.384250</td>\n",
       "      <td>1.959458</td>\n",
       "      <td>120.220750</td>\n",
       "      <td>27.545208</td>\n",
       "      <td>73.865125</td>\n",
       "      <td>64.480667</td>\n",
       "      <td>1.149542</td>\n",
       "      <td>6.939625</td>\n",
       "    </tr>\n",
       "    <tr>\n",
       "      <th>std</th>\n",
       "      <td>0.045453</td>\n",
       "      <td>0.03947</td>\n",
       "      <td>0.032111</td>\n",
       "      <td>0.017318</td>\n",
       "      <td>0.037350</td>\n",
       "      <td>0.064970</td>\n",
       "      <td>0.089934</td>\n",
       "      <td>0.026111</td>\n",
       "      <td>0.080166</td>\n",
       "      <td>2.270563</td>\n",
       "      <td>1.210001</td>\n",
       "      <td>1.247363</td>\n",
       "      <td>1.295554</td>\n",
       "      <td>0.095969</td>\n",
       "      <td>0.229261</td>\n",
       "    </tr>\n",
       "    <tr>\n",
       "      <th>min</th>\n",
       "      <td>1.462000</td>\n",
       "      <td>1.25800</td>\n",
       "      <td>1.110000</td>\n",
       "      <td>0.333000</td>\n",
       "      <td>0.925000</td>\n",
       "      <td>2.272000</td>\n",
       "      <td>0.539000</td>\n",
       "      <td>0.338000</td>\n",
       "      <td>1.656000</td>\n",
       "      <td>116.000000</td>\n",
       "      <td>25.510000</td>\n",
       "      <td>71.186000</td>\n",
       "      <td>62.069000</td>\n",
       "      <td>0.886000</td>\n",
       "      <td>6.071000</td>\n",
       "    </tr>\n",
       "    <tr>\n",
       "      <th>25%</th>\n",
       "      <td>1.633000</td>\n",
       "      <td>1.35200</td>\n",
       "      <td>1.186000</td>\n",
       "      <td>0.366000</td>\n",
       "      <td>1.042000</td>\n",
       "      <td>2.456750</td>\n",
       "      <td>0.704000</td>\n",
       "      <td>0.366000</td>\n",
       "      <td>1.955250</td>\n",
       "      <td>118.654250</td>\n",
       "      <td>26.531000</td>\n",
       "      <td>72.881000</td>\n",
       "      <td>63.280250</td>\n",
       "      <td>1.098000</td>\n",
       "      <td>6.906000</td>\n",
       "    </tr>\n",
       "    <tr>\n",
       "      <th>50%</th>\n",
       "      <td>1.643000</td>\n",
       "      <td>1.37100</td>\n",
       "      <td>1.211000</td>\n",
       "      <td>0.366000</td>\n",
       "      <td>1.070000</td>\n",
       "      <td>2.478000</td>\n",
       "      <td>0.789500</td>\n",
       "      <td>0.381000</td>\n",
       "      <td>1.971000</td>\n",
       "      <td>120.408000</td>\n",
       "      <td>27.083000</td>\n",
       "      <td>74.044000</td>\n",
       "      <td>64.407000</td>\n",
       "      <td>1.177500</td>\n",
       "      <td>6.994000</td>\n",
       "    </tr>\n",
       "    <tr>\n",
       "      <th>75%</th>\n",
       "      <td>1.661000</td>\n",
       "      <td>1.38000</td>\n",
       "      <td>1.239000</td>\n",
       "      <td>0.394000</td>\n",
       "      <td>1.070000</td>\n",
       "      <td>2.506000</td>\n",
       "      <td>0.834500</td>\n",
       "      <td>0.399500</td>\n",
       "      <td>1.999000</td>\n",
       "      <td>121.037000</td>\n",
       "      <td>28.644750</td>\n",
       "      <td>74.576000</td>\n",
       "      <td>65.517000</td>\n",
       "      <td>1.228500</td>\n",
       "      <td>7.070750</td>\n",
       "    </tr>\n",
       "    <tr>\n",
       "      <th>max</th>\n",
       "      <td>1.690000</td>\n",
       "      <td>1.40800</td>\n",
       "      <td>1.243000</td>\n",
       "      <td>0.396000</td>\n",
       "      <td>1.098000</td>\n",
       "      <td>2.543000</td>\n",
       "      <td>0.873000</td>\n",
       "      <td>0.424000</td>\n",
       "      <td>2.084000</td>\n",
       "      <td>126.667000</td>\n",
       "      <td>29.167000</td>\n",
       "      <td>75.949000</td>\n",
       "      <td>67.241000</td>\n",
       "      <td>1.267000</td>\n",
       "      <td>7.153000</td>\n",
       "    </tr>\n",
       "  </tbody>\n",
       "</table>\n",
       "</div>"
      ],
      "text/plain": [
       "              HW        HL         SL         EL         FL         ML  \\\n",
       "count  24.000000  24.00000  24.000000  24.000000  24.000000  24.000000   \n",
       "mean    1.636542   1.36175   1.208792   0.374917   1.055375   2.468917   \n",
       "std     0.045453   0.03947   0.032111   0.017318   0.037350   0.064970   \n",
       "min     1.462000   1.25800   1.110000   0.333000   0.925000   2.272000   \n",
       "25%     1.633000   1.35200   1.186000   0.366000   1.042000   2.456750   \n",
       "50%     1.643000   1.37100   1.211000   0.366000   1.070000   2.478000   \n",
       "75%     1.661000   1.38000   1.239000   0.394000   1.070000   2.506000   \n",
       "max     1.690000   1.40800   1.243000   0.396000   1.098000   2.543000   \n",
       "\n",
       "              PL        PPL         GL          CI         EI         SI  \\\n",
       "count  24.000000  24.000000  24.000000   24.000000  24.000000  24.000000   \n",
       "mean    0.765292   0.384250   1.959458  120.220750  27.545208  73.865125   \n",
       "std     0.089934   0.026111   0.080166    2.270563   1.210001   1.247363   \n",
       "min     0.539000   0.338000   1.656000  116.000000  25.510000  71.186000   \n",
       "25%     0.704000   0.366000   1.955250  118.654250  26.531000  72.881000   \n",
       "50%     0.789500   0.381000   1.971000  120.408000  27.083000  74.044000   \n",
       "75%     0.834500   0.399500   1.999000  121.037000  28.644750  74.576000   \n",
       "max     0.873000   0.424000   2.084000  126.667000  29.167000  75.949000   \n",
       "\n",
       "             FLI         WL         TL  \n",
       "count  24.000000  24.000000  24.000000  \n",
       "mean   64.480667   1.149542   6.939625  \n",
       "std     1.295554   0.095969   0.229261  \n",
       "min    62.069000   0.886000   6.071000  \n",
       "25%    63.280250   1.098000   6.906000  \n",
       "50%    64.407000   1.177500   6.994000  \n",
       "75%    65.517000   1.228500   7.070750  \n",
       "max    67.241000   1.267000   7.153000  "
      ]
     },
     "execution_count": 25,
     "metadata": {},
     "output_type": "execute_result"
    }
   ],
   "source": [
    "zet_g.describe()"
   ]
  },
  {
   "cell_type": "markdown",
   "metadata": {},
   "source": [
    "### fovouros males"
   ]
  },
  {
   "cell_type": "code",
   "execution_count": 26,
   "metadata": {},
   "outputs": [
    {
     "name": "stdout",
     "output_type": "stream",
     "text": [
      "coll\n",
      "HDFL12052010-14    1\n",
      "KG110505-02        1\n",
      "KG110515-09        1\n",
      "KG110520-03        1\n",
      "KG110520-12        1\n",
      "Name: coll, dtype: int64\n"
     ]
    },
    {
     "data": {
      "text/plain": [
       "5"
      ]
     },
     "execution_count": 26,
     "metadata": {},
     "output_type": "execute_result"
    }
   ],
   "source": [
    "print(fov_m.groupby('coll')['coll'].nunique())\n",
    "len(fov_m.groupby('coll')['coll'].nunique())"
   ]
  },
  {
   "cell_type": "code",
   "execution_count": 27,
   "metadata": {},
   "outputs": [
    {
     "data": {
      "text/html": [
       "<div>\n",
       "<style scoped>\n",
       "    .dataframe tbody tr th:only-of-type {\n",
       "        vertical-align: middle;\n",
       "    }\n",
       "\n",
       "    .dataframe tbody tr th {\n",
       "        vertical-align: top;\n",
       "    }\n",
       "\n",
       "    .dataframe thead th {\n",
       "        text-align: right;\n",
       "    }\n",
       "</style>\n",
       "<table border=\"1\" class=\"dataframe\">\n",
       "  <thead>\n",
       "    <tr style=\"text-align: right;\">\n",
       "      <th></th>\n",
       "      <th>HW</th>\n",
       "      <th>HL</th>\n",
       "      <th>SL</th>\n",
       "      <th>EL</th>\n",
       "      <th>FL</th>\n",
       "      <th>ML</th>\n",
       "      <th>PL</th>\n",
       "      <th>PPL</th>\n",
       "      <th>GL</th>\n",
       "      <th>CI</th>\n",
       "      <th>EI</th>\n",
       "      <th>SI</th>\n",
       "      <th>FLI</th>\n",
       "      <th>WL</th>\n",
       "      <th>TL</th>\n",
       "    </tr>\n",
       "  </thead>\n",
       "  <tbody>\n",
       "    <tr>\n",
       "      <th>count</th>\n",
       "      <td>18.000000</td>\n",
       "      <td>18.000000</td>\n",
       "      <td>18.000000</td>\n",
       "      <td>18.000000</td>\n",
       "      <td>18.000000</td>\n",
       "      <td>18.000000</td>\n",
       "      <td>18.000000</td>\n",
       "      <td>18.000000</td>\n",
       "      <td>18.000000</td>\n",
       "      <td>18.000000</td>\n",
       "      <td>18.000000</td>\n",
       "      <td>18.000000</td>\n",
       "      <td>18.000000</td>\n",
       "      <td>18.000000</td>\n",
       "      <td>18.000000</td>\n",
       "    </tr>\n",
       "    <tr>\n",
       "      <th>mean</th>\n",
       "      <td>0.838500</td>\n",
       "      <td>0.686333</td>\n",
       "      <td>0.827333</td>\n",
       "      <td>0.294444</td>\n",
       "      <td>0.314000</td>\n",
       "      <td>1.788111</td>\n",
       "      <td>0.360278</td>\n",
       "      <td>0.234000</td>\n",
       "      <td>1.458611</td>\n",
       "      <td>122.257778</td>\n",
       "      <td>42.887167</td>\n",
       "      <td>98.683500</td>\n",
       "      <td>37.446833</td>\n",
       "      <td>0.594278</td>\n",
       "      <td>4.527611</td>\n",
       "    </tr>\n",
       "    <tr>\n",
       "      <th>std</th>\n",
       "      <td>0.014193</td>\n",
       "      <td>0.022927</td>\n",
       "      <td>0.021282</td>\n",
       "      <td>0.013764</td>\n",
       "      <td>0.010627</td>\n",
       "      <td>0.057213</td>\n",
       "      <td>0.022323</td>\n",
       "      <td>0.015511</td>\n",
       "      <td>0.134587</td>\n",
       "      <td>3.781497</td>\n",
       "      <td>1.931729</td>\n",
       "      <td>2.475692</td>\n",
       "      <td>1.314601</td>\n",
       "      <td>0.030273</td>\n",
       "      <td>0.158913</td>\n",
       "    </tr>\n",
       "    <tr>\n",
       "      <th>min</th>\n",
       "      <td>0.817000</td>\n",
       "      <td>0.620000</td>\n",
       "      <td>0.788000</td>\n",
       "      <td>0.282000</td>\n",
       "      <td>0.302000</td>\n",
       "      <td>1.671000</td>\n",
       "      <td>0.334000</td>\n",
       "      <td>0.197000</td>\n",
       "      <td>1.239000</td>\n",
       "      <td>115.385000</td>\n",
       "      <td>40.000000</td>\n",
       "      <td>93.548000</td>\n",
       "      <td>35.484000</td>\n",
       "      <td>0.535000</td>\n",
       "      <td>4.196000</td>\n",
       "    </tr>\n",
       "    <tr>\n",
       "      <th>25%</th>\n",
       "      <td>0.831000</td>\n",
       "      <td>0.676000</td>\n",
       "      <td>0.817000</td>\n",
       "      <td>0.282000</td>\n",
       "      <td>0.310000</td>\n",
       "      <td>1.765750</td>\n",
       "      <td>0.338000</td>\n",
       "      <td>0.225000</td>\n",
       "      <td>1.380000</td>\n",
       "      <td>120.000000</td>\n",
       "      <td>41.667000</td>\n",
       "      <td>96.667000</td>\n",
       "      <td>36.667000</td>\n",
       "      <td>0.566500</td>\n",
       "      <td>4.477000</td>\n",
       "    </tr>\n",
       "    <tr>\n",
       "      <th>50%</th>\n",
       "      <td>0.845000</td>\n",
       "      <td>0.683000</td>\n",
       "      <td>0.819000</td>\n",
       "      <td>0.285000</td>\n",
       "      <td>0.310000</td>\n",
       "      <td>1.788000</td>\n",
       "      <td>0.365500</td>\n",
       "      <td>0.225000</td>\n",
       "      <td>1.436000</td>\n",
       "      <td>122.449000</td>\n",
       "      <td>41.987500</td>\n",
       "      <td>98.319000</td>\n",
       "      <td>36.760500</td>\n",
       "      <td>0.591000</td>\n",
       "      <td>4.534000</td>\n",
       "    </tr>\n",
       "    <tr>\n",
       "      <th>75%</th>\n",
       "      <td>0.845000</td>\n",
       "      <td>0.702750</td>\n",
       "      <td>0.845000</td>\n",
       "      <td>0.310000</td>\n",
       "      <td>0.310000</td>\n",
       "      <td>1.830000</td>\n",
       "      <td>0.366000</td>\n",
       "      <td>0.250500</td>\n",
       "      <td>1.513750</td>\n",
       "      <td>125.000000</td>\n",
       "      <td>44.673500</td>\n",
       "      <td>100.000000</td>\n",
       "      <td>37.931000</td>\n",
       "      <td>0.619000</td>\n",
       "      <td>4.615250</td>\n",
       "    </tr>\n",
       "    <tr>\n",
       "      <th>max</th>\n",
       "      <td>0.873000</td>\n",
       "      <td>0.732000</td>\n",
       "      <td>0.873000</td>\n",
       "      <td>0.310000</td>\n",
       "      <td>0.338000</td>\n",
       "      <td>1.859000</td>\n",
       "      <td>0.394000</td>\n",
       "      <td>0.253000</td>\n",
       "      <td>1.746000</td>\n",
       "      <td>131.818000</td>\n",
       "      <td>45.833000</td>\n",
       "      <td>103.448000</td>\n",
       "      <td>40.000000</td>\n",
       "      <td>0.647000</td>\n",
       "      <td>4.759000</td>\n",
       "    </tr>\n",
       "  </tbody>\n",
       "</table>\n",
       "</div>"
      ],
      "text/plain": [
       "              HW         HL         SL         EL         FL         ML  \\\n",
       "count  18.000000  18.000000  18.000000  18.000000  18.000000  18.000000   \n",
       "mean    0.838500   0.686333   0.827333   0.294444   0.314000   1.788111   \n",
       "std     0.014193   0.022927   0.021282   0.013764   0.010627   0.057213   \n",
       "min     0.817000   0.620000   0.788000   0.282000   0.302000   1.671000   \n",
       "25%     0.831000   0.676000   0.817000   0.282000   0.310000   1.765750   \n",
       "50%     0.845000   0.683000   0.819000   0.285000   0.310000   1.788000   \n",
       "75%     0.845000   0.702750   0.845000   0.310000   0.310000   1.830000   \n",
       "max     0.873000   0.732000   0.873000   0.310000   0.338000   1.859000   \n",
       "\n",
       "              PL        PPL         GL          CI         EI          SI  \\\n",
       "count  18.000000  18.000000  18.000000   18.000000  18.000000   18.000000   \n",
       "mean    0.360278   0.234000   1.458611  122.257778  42.887167   98.683500   \n",
       "std     0.022323   0.015511   0.134587    3.781497   1.931729    2.475692   \n",
       "min     0.334000   0.197000   1.239000  115.385000  40.000000   93.548000   \n",
       "25%     0.338000   0.225000   1.380000  120.000000  41.667000   96.667000   \n",
       "50%     0.365500   0.225000   1.436000  122.449000  41.987500   98.319000   \n",
       "75%     0.366000   0.250500   1.513750  125.000000  44.673500  100.000000   \n",
       "max     0.394000   0.253000   1.746000  131.818000  45.833000  103.448000   \n",
       "\n",
       "             FLI         WL         TL  \n",
       "count  18.000000  18.000000  18.000000  \n",
       "mean   37.446833   0.594278   4.527611  \n",
       "std     1.314601   0.030273   0.158913  \n",
       "min    35.484000   0.535000   4.196000  \n",
       "25%    36.667000   0.566500   4.477000  \n",
       "50%    36.760500   0.591000   4.534000  \n",
       "75%    37.931000   0.619000   4.615250  \n",
       "max    40.000000   0.647000   4.759000  "
      ]
     },
     "execution_count": 27,
     "metadata": {},
     "output_type": "execute_result"
    }
   ],
   "source": [
    "fov_m.describe()"
   ]
  },
  {
   "cell_type": "markdown",
   "metadata": {},
   "source": [
    "### zeteki males"
   ]
  },
  {
   "cell_type": "code",
   "execution_count": 28,
   "metadata": {},
   "outputs": [
    {
     "name": "stdout",
     "output_type": "stream",
     "text": [
      "coll\n",
      "HDFL19052010-8    1\n",
      "KG110510-01       1\n",
      "KG110512-01       1\n",
      "KG110512-01A      1\n",
      "KG110515-01       1\n",
      "Name: coll, dtype: int64\n"
     ]
    },
    {
     "data": {
      "text/plain": [
       "5"
      ]
     },
     "execution_count": 28,
     "metadata": {},
     "output_type": "execute_result"
    }
   ],
   "source": [
    "print(zet_m.groupby('coll')['coll'].nunique())\n",
    "len(zet_m.groupby('coll')['coll'].nunique())"
   ]
  },
  {
   "cell_type": "code",
   "execution_count": 29,
   "metadata": {},
   "outputs": [
    {
     "data": {
      "text/html": [
       "<div>\n",
       "<style scoped>\n",
       "    .dataframe tbody tr th:only-of-type {\n",
       "        vertical-align: middle;\n",
       "    }\n",
       "\n",
       "    .dataframe tbody tr th {\n",
       "        vertical-align: top;\n",
       "    }\n",
       "\n",
       "    .dataframe thead th {\n",
       "        text-align: right;\n",
       "    }\n",
       "</style>\n",
       "<table border=\"1\" class=\"dataframe\">\n",
       "  <thead>\n",
       "    <tr style=\"text-align: right;\">\n",
       "      <th></th>\n",
       "      <th>HW</th>\n",
       "      <th>HL</th>\n",
       "      <th>SL</th>\n",
       "      <th>EL</th>\n",
       "      <th>FL</th>\n",
       "      <th>ML</th>\n",
       "      <th>PL</th>\n",
       "      <th>PPL</th>\n",
       "      <th>GL</th>\n",
       "      <th>CI</th>\n",
       "      <th>EI</th>\n",
       "      <th>SI</th>\n",
       "      <th>FLI</th>\n",
       "      <th>WL</th>\n",
       "      <th>TL</th>\n",
       "    </tr>\n",
       "  </thead>\n",
       "  <tbody>\n",
       "    <tr>\n",
       "      <th>count</th>\n",
       "      <td>19.000000</td>\n",
       "      <td>19.000000</td>\n",
       "      <td>19.000000</td>\n",
       "      <td>19.000000</td>\n",
       "      <td>19.000000</td>\n",
       "      <td>19.000000</td>\n",
       "      <td>19.000000</td>\n",
       "      <td>19.000000</td>\n",
       "      <td>19.000000</td>\n",
       "      <td>19.000000</td>\n",
       "      <td>19.000000</td>\n",
       "      <td>19.000000</td>\n",
       "      <td>19.000000</td>\n",
       "      <td>19.000000</td>\n",
       "      <td>19.000000</td>\n",
       "    </tr>\n",
       "    <tr>\n",
       "      <th>mean</th>\n",
       "      <td>1.028316</td>\n",
       "      <td>0.786158</td>\n",
       "      <td>1.002053</td>\n",
       "      <td>0.363684</td>\n",
       "      <td>0.371000</td>\n",
       "      <td>2.005632</td>\n",
       "      <td>0.485368</td>\n",
       "      <td>0.276526</td>\n",
       "      <td>1.678263</td>\n",
       "      <td>130.858526</td>\n",
       "      <td>46.294421</td>\n",
       "      <td>97.461947</td>\n",
       "      <td>36.109789</td>\n",
       "      <td>0.761895</td>\n",
       "      <td>5.231895</td>\n",
       "    </tr>\n",
       "    <tr>\n",
       "      <th>std</th>\n",
       "      <td>0.033121</td>\n",
       "      <td>0.026951</td>\n",
       "      <td>0.051131</td>\n",
       "      <td>0.011662</td>\n",
       "      <td>0.017736</td>\n",
       "      <td>0.105516</td>\n",
       "      <td>0.064485</td>\n",
       "      <td>0.024570</td>\n",
       "      <td>0.109204</td>\n",
       "      <td>4.068060</td>\n",
       "      <td>1.707027</td>\n",
       "      <td>3.948625</td>\n",
       "      <td>1.910164</td>\n",
       "      <td>0.074614</td>\n",
       "      <td>0.224155</td>\n",
       "    </tr>\n",
       "    <tr>\n",
       "      <th>min</th>\n",
       "      <td>0.957000</td>\n",
       "      <td>0.746000</td>\n",
       "      <td>0.929000</td>\n",
       "      <td>0.338000</td>\n",
       "      <td>0.338000</td>\n",
       "      <td>1.830000</td>\n",
       "      <td>0.338000</td>\n",
       "      <td>0.253000</td>\n",
       "      <td>1.577000</td>\n",
       "      <td>125.862000</td>\n",
       "      <td>42.857000</td>\n",
       "      <td>86.842000</td>\n",
       "      <td>32.432000</td>\n",
       "      <td>0.591000</td>\n",
       "      <td>4.900000</td>\n",
       "    </tr>\n",
       "    <tr>\n",
       "      <th>25%</th>\n",
       "      <td>1.014000</td>\n",
       "      <td>0.760000</td>\n",
       "      <td>0.957000</td>\n",
       "      <td>0.365500</td>\n",
       "      <td>0.366000</td>\n",
       "      <td>1.929000</td>\n",
       "      <td>0.453500</td>\n",
       "      <td>0.253000</td>\n",
       "      <td>1.605000</td>\n",
       "      <td>127.586000</td>\n",
       "      <td>44.828000</td>\n",
       "      <td>95.782500</td>\n",
       "      <td>35.135000</td>\n",
       "      <td>0.732000</td>\n",
       "      <td>5.097000</td>\n",
       "    </tr>\n",
       "    <tr>\n",
       "      <th>50%</th>\n",
       "      <td>1.042000</td>\n",
       "      <td>0.788000</td>\n",
       "      <td>1.014000</td>\n",
       "      <td>0.366000</td>\n",
       "      <td>0.366000</td>\n",
       "      <td>1.999000</td>\n",
       "      <td>0.479000</td>\n",
       "      <td>0.282000</td>\n",
       "      <td>1.633000</td>\n",
       "      <td>131.034000</td>\n",
       "      <td>46.429000</td>\n",
       "      <td>97.297000</td>\n",
       "      <td>35.135000</td>\n",
       "      <td>0.760000</td>\n",
       "      <td>5.210000</td>\n",
       "    </tr>\n",
       "    <tr>\n",
       "      <th>75%</th>\n",
       "      <td>1.042000</td>\n",
       "      <td>0.817000</td>\n",
       "      <td>1.042000</td>\n",
       "      <td>0.366000</td>\n",
       "      <td>0.376500</td>\n",
       "      <td>2.084000</td>\n",
       "      <td>0.507000</td>\n",
       "      <td>0.282000</td>\n",
       "      <td>1.703500</td>\n",
       "      <td>132.143000</td>\n",
       "      <td>48.074000</td>\n",
       "      <td>100.000000</td>\n",
       "      <td>37.653000</td>\n",
       "      <td>0.789000</td>\n",
       "      <td>5.280000</td>\n",
       "    </tr>\n",
       "    <tr>\n",
       "      <th>max</th>\n",
       "      <td>1.070000</td>\n",
       "      <td>0.817000</td>\n",
       "      <td>1.098000</td>\n",
       "      <td>0.394000</td>\n",
       "      <td>0.411000</td>\n",
       "      <td>2.225000</td>\n",
       "      <td>0.591000</td>\n",
       "      <td>0.338000</td>\n",
       "      <td>1.999000</td>\n",
       "      <td>140.741000</td>\n",
       "      <td>48.276000</td>\n",
       "      <td>102.703000</td>\n",
       "      <td>39.452000</td>\n",
       "      <td>0.929000</td>\n",
       "      <td>5.829000</td>\n",
       "    </tr>\n",
       "  </tbody>\n",
       "</table>\n",
       "</div>"
      ],
      "text/plain": [
       "              HW         HL         SL         EL         FL         ML  \\\n",
       "count  19.000000  19.000000  19.000000  19.000000  19.000000  19.000000   \n",
       "mean    1.028316   0.786158   1.002053   0.363684   0.371000   2.005632   \n",
       "std     0.033121   0.026951   0.051131   0.011662   0.017736   0.105516   \n",
       "min     0.957000   0.746000   0.929000   0.338000   0.338000   1.830000   \n",
       "25%     1.014000   0.760000   0.957000   0.365500   0.366000   1.929000   \n",
       "50%     1.042000   0.788000   1.014000   0.366000   0.366000   1.999000   \n",
       "75%     1.042000   0.817000   1.042000   0.366000   0.376500   2.084000   \n",
       "max     1.070000   0.817000   1.098000   0.394000   0.411000   2.225000   \n",
       "\n",
       "              PL        PPL         GL          CI         EI          SI  \\\n",
       "count  19.000000  19.000000  19.000000   19.000000  19.000000   19.000000   \n",
       "mean    0.485368   0.276526   1.678263  130.858526  46.294421   97.461947   \n",
       "std     0.064485   0.024570   0.109204    4.068060   1.707027    3.948625   \n",
       "min     0.338000   0.253000   1.577000  125.862000  42.857000   86.842000   \n",
       "25%     0.453500   0.253000   1.605000  127.586000  44.828000   95.782500   \n",
       "50%     0.479000   0.282000   1.633000  131.034000  46.429000   97.297000   \n",
       "75%     0.507000   0.282000   1.703500  132.143000  48.074000  100.000000   \n",
       "max     0.591000   0.338000   1.999000  140.741000  48.276000  102.703000   \n",
       "\n",
       "             FLI         WL         TL  \n",
       "count  19.000000  19.000000  19.000000  \n",
       "mean   36.109789   0.761895   5.231895  \n",
       "std     1.910164   0.074614   0.224155  \n",
       "min    32.432000   0.591000   4.900000  \n",
       "25%    35.135000   0.732000   5.097000  \n",
       "50%    35.135000   0.760000   5.210000  \n",
       "75%    37.653000   0.789000   5.280000  \n",
       "max    39.452000   0.929000   5.829000  "
      ]
     },
     "execution_count": 29,
     "metadata": {},
     "output_type": "execute_result"
    }
   ],
   "source": [
    "zet_m.describe()"
   ]
  },
  {
   "cell_type": "code",
   "execution_count": 30,
   "metadata": {},
   "outputs": [
    {
     "data": {
      "text/plain": [
       "sample     object\n",
       "coll       object\n",
       "spp        object\n",
       "caste      object\n",
       "HW        float64\n",
       "HL        float64\n",
       "SL        float64\n",
       "EL        float64\n",
       "FL        float64\n",
       "ML        float64\n",
       "PL        float64\n",
       "PPL       float64\n",
       "GL        float64\n",
       "CI        float64\n",
       "EI        float64\n",
       "SI        float64\n",
       "FLI       float64\n",
       "WL        float64\n",
       "TL        float64\n",
       "dtype: object"
      ]
     },
     "execution_count": 30,
     "metadata": {},
     "output_type": "execute_result"
    }
   ],
   "source": [
    "df.dtypes"
   ]
  },
  {
   "cell_type": "code",
   "execution_count": 31,
   "metadata": {},
   "outputs": [
    {
     "data": {
      "image/png": "[encoded data removed]",
      "text/plain": [
       "<Figure size 576x432 with 1 Axes>"
      ]
     },
     "metadata": {
      "needs_background": "light"
     },
     "output_type": "display_data"
    }
   ],
   "source": [
    "plt.figure(figsize=(8, 6))\n",
    "sns.boxplot(x=\"caste\",y=\"HW\",hue=\"spp\",data=df,palette=\"Set2\");"
   ]
  },
  {
   "cell_type": "code",
   "execution_count": 38,
   "metadata": {
    "scrolled": false
   },
   "outputs": [
    {
     "data": {
      "image/png": "[encoded data removed]",
      "text/plain": [
       "<Figure size 576x432 with 1 Axes>"
      ]
     },
     "metadata": {},
     "output_type": "display_data"
    },
    {
     "data": {
      "image/png": "[encoded data removed]",
      "text/plain": [
       "<Figure size 576x432 with 1 Axes>"
      ]
     },
     "metadata": {},
     "output_type": "display_data"
    },
    {
     "data": {
      "image/png": "[encoded data removed]",
      "text/plain": [
       "<Figure size 576x432 with 1 Axes>"
      ]
     },
     "metadata": {},
     "output_type": "display_data"
    },
    {
     "data": {
      "image/png": "[encoded data removed]",
      "text/plain": [
       "<Figure size 576x432 with 1 Axes>"
      ]
     },
     "metadata": {},
     "output_type": "display_data"
    },
    {
     "data": {
      "image/png": "[encoded data removed]",
      "text/plain": [
       "<Figure size 576x432 with 1 Axes>"
      ]
     },
     "metadata": {},
     "output_type": "display_data"
    },
    {
     "data": {
      "image/png": "[encoded data removed]",
      "text/plain": [
       "<Figure size 576x432 with 1 Axes>"
      ]
     },
     "metadata": {},
     "output_type": "display_data"
    },
    {
     "data": {
      "image/png": "[encoded data removed]",
      "text/plain": [
       "<Figure size 576x432 with 1 Axes>"
      ]
     },
     "metadata": {},
     "output_type": "display_data"
    },
    {
     "data": {
      "image/png": "[encoded data removed]",
      "text/plain": [
       "<Figure size 576x432 with 1 Axes>"
      ]
     },
     "metadata": {},
     "output_type": "display_data"
    },
    {
     "data": {
      "image/png": "[encoded data removed]",
      "text/plain": [
       "<Figure size 576x432 with 1 Axes>"
      ]
     },
     "metadata": {},
     "output_type": "display_data"
    },
    {
     "data": {
      "image/png": "[encoded data removed]",
      "text/plain": [
       "<Figure size 576x432 with 1 Axes>"
      ]
     },
     "metadata": {},
     "output_type": "display_data"
    },
    {
     "data": {
      "image/png": "[encoded data removed]",
      "text/plain": [
       "<Figure size 576x432 with 1 Axes>"
      ]
     },
     "metadata": {},
     "output_type": "display_data"
    },
    {
     "data": {
      "image/png": "[encoded data removed]",
      "text/plain": [
       "<Figure size 576x432 with 1 Axes>"
      ]
     },
     "metadata": {},
     "output_type": "display_data"
    },
    {
     "data": {
      "image/png": "[encoded data removed]",
      "text/plain": [
       "<Figure size 576x432 with 1 Axes>"
      ]
     },
     "metadata": {},
     "output_type": "display_data"
    },
    {
     "data": {
      "image/png": "[encoded data removed]",
      "text/plain": [
       "<Figure size 576x432 with 1 Axes>"
      ]
     },
     "metadata": {},
     "output_type": "display_data"
    },
    {
     "data": {
      "image/png": "[encoded data removed]",
      "text/plain": [
       "<Figure size 576x432 with 1 Axes>"
      ]
     },
     "metadata": {},
     "output_type": "display_data"
    }
   ],
   "source": [
    "list = ['HW', 'HL', 'SL', 'EL', 'FL',\n",
    "        'PL', 'ML', 'PPL', 'GL', 'CI',\n",
    "        'EI', 'SI', 'FLI', 'WL', 'TL']\n",
    "for v in list:\n",
    "    plt.figure(figsize=(8, 6))\n",
    "    sns.set(font_scale = 1.25)\n",
    "    sns.boxplot(x=\"caste\",y=v ,hue=\"spp\",data=df,palette=\"Set2\")"
   ]
  },
  {
   "cell_type": "markdown",
   "metadata": {},
   "source": [
    "## Ignore these save for later"
   ]
  },
  {
   "cell_type": "markdown",
   "metadata": {},
   "source": [
    "import matplotlib.pyplot as plt\n",
    "plt.plot([1,2,3],[4,2,5])\n",
    "plt.show()\n",
    "plt.plot(df['hw'])\n",
    "plt.show()"
   ]
  },
  {
   "cell_type": "markdown",
   "metadata": {},
   "source": [
    "dfg = sns.PairGrid(df)\n",
    "dfg.map_diag(sns.kdeplot)\n",
    "dfg.map_offdiag(sns.kdeplot);"
   ]
  },
  {
   "cell_type": "markdown",
   "metadata": {},
   "source": [
    "sns.distplot(df['hw'],hist=False,rug=True)\n",
    "plt.title('All Headwidths');"
   ]
  },
  {
   "cell_type": "markdown",
   "metadata": {},
   "source": [
    "sns.jointplot(x=fov['hw'],y=zet['hw'])"
   ]
  },
  {
   "cell_type": "code",
   "execution_count": null,
   "metadata": {},
   "outputs": [],
   "source": []
  }
 ],
 "metadata": {
  "kernelspec": {
   "display_name": "Python 2",
   "language": "python",
   "name": "python2"
  },
  "language_info": {
   "codemirror_mode": {
    "name": "ipython",
    "version": 2
   },
   "file_extension": ".py",
   "mimetype": "text/x-python",
   "name": "python",
   "nbconvert_exporter": "python",
   "pygments_lexer": "ipython2",
   "version": "2.7.17"
  }
 },
 "nbformat": 4,
 "nbformat_minor": 2
}
